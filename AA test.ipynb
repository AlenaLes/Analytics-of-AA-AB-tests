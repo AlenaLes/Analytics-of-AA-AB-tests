{
 "cells": [
  {
   "cell_type": "code",
   "execution_count": 2,
   "id": "b2b57b54-a47a-43d7-aa7d-63379f45c73a",
   "metadata": {},
   "outputs": [],
   "source": [
    "import pandas as pd\n",
    "import pandahouse as ph\n",
    "import numpy as np\n",
    "import seaborn as sns\n",
    "import scipy.stats as st\n",
    "import matplotlib.pyplot as plt\n",
    "from typing import List"
   ]
  },
  {
   "cell_type": "code",
   "execution_count": 3,
   "id": "b39bbe81-4048-4468-af35-92d6b733975e",
   "metadata": {},
   "outputs": [],
   "source": [
    " connection = {\n",
    "    'host': 'https://clickhouse.lab.karpov.courses',\n",
    "    'password': 'dpo_python_2020',\n",
    "    'user': 'student',\n",
    "    'database': 'simulator_20221020'\n",
    "}"
   ]
  },
  {
   "cell_type": "code",
   "execution_count": 13,
   "id": "31cf6d7f-049c-4bd2-b27a-79dea272b577",
   "metadata": {},
   "outputs": [],
   "source": [
    " q = \"\"\"\n",
    "    select count(distinct user_id)\n",
    "    from {db}.feed_actions \n",
    "    where toDate(time) >= '2022-09-26' and toDate(time) <= '2022-10-02' \n",
    "    \"\"\""
   ]
  },
  {
   "cell_type": "code",
   "execution_count": 14,
   "id": "27f76694-faab-43bf-af38-27fb692b854f",
   "metadata": {},
   "outputs": [
    {
     "data": {
      "text/html": [
       "<div>\n",
       "<style scoped>\n",
       "    .dataframe tbody tr th:only-of-type {\n",
       "        vertical-align: middle;\n",
       "    }\n",
       "\n",
       "    .dataframe tbody tr th {\n",
       "        vertical-align: top;\n",
       "    }\n",
       "\n",
       "    .dataframe thead th {\n",
       "        text-align: right;\n",
       "    }\n",
       "</style>\n",
       "<table border=\"1\" class=\"dataframe\">\n",
       "  <thead>\n",
       "    <tr style=\"text-align: right;\">\n",
       "      <th></th>\n",
       "      <th>uniqExact(user_id)</th>\n",
       "    </tr>\n",
       "  </thead>\n",
       "  <tbody>\n",
       "    <tr>\n",
       "      <th>0</th>\n",
       "      <td>42585</td>\n",
       "    </tr>\n",
       "  </tbody>\n",
       "</table>\n",
       "</div>"
      ],
      "text/plain": [
       "   uniqExact(user_id)\n",
       "0               42585"
      ]
     },
     "execution_count": 14,
     "metadata": {},
     "output_type": "execute_result"
    }
   ],
   "source": [
    " # кол-во пользоватей для A/A теста\n",
    "ph.read_clickhouse(q, connection=connection)"
   ]
  },
  {
   "cell_type": "code",
   "execution_count": 15,
   "id": "2e115bbc-9677-4730-b568-7f8900072662",
   "metadata": {},
   "outputs": [],
   "source": [
    " q = \"\"\"\n",
    "    select user_id,\n",
    "    exp_group, \n",
    "    countIf(action='like') as likes,\n",
    "    countIf(action='view') as views, \n",
    "    likes / views as ctr\n",
    "    from {db}.feed_actions\n",
    "    where toDate(time) >= '2022-09-26' and toDate(time) <= '2022-10-02'\n",
    "    and exp_group in (2, 3)\n",
    "    group by exp_group, user_id\n",
    "    \"\"\""
   ]
  },
  {
   "cell_type": "code",
   "execution_count": 16,
   "id": "20c9ebcf-47e7-46a1-935d-0e1778872981",
   "metadata": {},
   "outputs": [],
   "source": [
    " df_aa = ph.read_clickhouse(q, connection=connection)"
   ]
  },
  {
   "cell_type": "code",
   "execution_count": 18,
   "id": "56254396-2e1d-4169-bb7e-c47c27bc44fa",
   "metadata": {},
   "outputs": [
    {
     "data": {
      "text/html": [
       "<div>\n",
       "<style scoped>\n",
       "    .dataframe tbody tr th:only-of-type {\n",
       "        vertical-align: middle;\n",
       "    }\n",
       "\n",
       "    .dataframe tbody tr th {\n",
       "        vertical-align: top;\n",
       "    }\n",
       "\n",
       "    .dataframe thead th {\n",
       "        text-align: right;\n",
       "    }\n",
       "</style>\n",
       "<table border=\"1\" class=\"dataframe\">\n",
       "  <thead>\n",
       "    <tr style=\"text-align: right;\">\n",
       "      <th></th>\n",
       "      <th>user_id</th>\n",
       "      <th>exp_group</th>\n",
       "      <th>likes</th>\n",
       "      <th>views</th>\n",
       "      <th>ctr</th>\n",
       "    </tr>\n",
       "  </thead>\n",
       "  <tbody>\n",
       "    <tr>\n",
       "      <th>0</th>\n",
       "      <td>115383</td>\n",
       "      <td>3</td>\n",
       "      <td>11</td>\n",
       "      <td>36</td>\n",
       "      <td>0.305556</td>\n",
       "    </tr>\n",
       "    <tr>\n",
       "      <th>1</th>\n",
       "      <td>123580</td>\n",
       "      <td>3</td>\n",
       "      <td>15</td>\n",
       "      <td>92</td>\n",
       "      <td>0.163043</td>\n",
       "    </tr>\n",
       "    <tr>\n",
       "      <th>2</th>\n",
       "      <td>131473</td>\n",
       "      <td>2</td>\n",
       "      <td>26</td>\n",
       "      <td>148</td>\n",
       "      <td>0.175676</td>\n",
       "    </tr>\n",
       "    <tr>\n",
       "      <th>3</th>\n",
       "      <td>23985</td>\n",
       "      <td>2</td>\n",
       "      <td>12</td>\n",
       "      <td>66</td>\n",
       "      <td>0.181818</td>\n",
       "    </tr>\n",
       "    <tr>\n",
       "      <th>4</th>\n",
       "      <td>24523</td>\n",
       "      <td>2</td>\n",
       "      <td>17</td>\n",
       "      <td>120</td>\n",
       "      <td>0.141667</td>\n",
       "    </tr>\n",
       "    <tr>\n",
       "      <th>...</th>\n",
       "      <td>...</td>\n",
       "      <td>...</td>\n",
       "      <td>...</td>\n",
       "      <td>...</td>\n",
       "      <td>...</td>\n",
       "    </tr>\n",
       "    <tr>\n",
       "      <th>17044</th>\n",
       "      <td>122008</td>\n",
       "      <td>3</td>\n",
       "      <td>4</td>\n",
       "      <td>31</td>\n",
       "      <td>0.129032</td>\n",
       "    </tr>\n",
       "    <tr>\n",
       "      <th>17045</th>\n",
       "      <td>25383</td>\n",
       "      <td>2</td>\n",
       "      <td>16</td>\n",
       "      <td>57</td>\n",
       "      <td>0.280702</td>\n",
       "    </tr>\n",
       "    <tr>\n",
       "      <th>17046</th>\n",
       "      <td>122190</td>\n",
       "      <td>3</td>\n",
       "      <td>25</td>\n",
       "      <td>74</td>\n",
       "      <td>0.337838</td>\n",
       "    </tr>\n",
       "    <tr>\n",
       "      <th>17047</th>\n",
       "      <td>108927</td>\n",
       "      <td>2</td>\n",
       "      <td>8</td>\n",
       "      <td>33</td>\n",
       "      <td>0.242424</td>\n",
       "    </tr>\n",
       "    <tr>\n",
       "      <th>17048</th>\n",
       "      <td>17310</td>\n",
       "      <td>2</td>\n",
       "      <td>2</td>\n",
       "      <td>14</td>\n",
       "      <td>0.142857</td>\n",
       "    </tr>\n",
       "  </tbody>\n",
       "</table>\n",
       "<p>17049 rows × 5 columns</p>\n",
       "</div>"
      ],
      "text/plain": [
       "       user_id  exp_group  likes  views       ctr\n",
       "0       115383          3     11     36  0.305556\n",
       "1       123580          3     15     92  0.163043\n",
       "2       131473          2     26    148  0.175676\n",
       "3        23985          2     12     66  0.181818\n",
       "4        24523          2     17    120  0.141667\n",
       "...        ...        ...    ...    ...       ...\n",
       "17044   122008          3      4     31  0.129032\n",
       "17045    25383          2     16     57  0.280702\n",
       "17046   122190          3     25     74  0.337838\n",
       "17047   108927          2      8     33  0.242424\n",
       "17048    17310          2      2     14  0.142857\n",
       "\n",
       "[17049 rows x 5 columns]"
      ]
     },
     "execution_count": 18,
     "metadata": {},
     "output_type": "execute_result"
    }
   ],
   "source": [
    " # датафрейм для A/A теста с ctr для каждого пользователя\n",
    "df_aa"
   ]
  },
  {
   "cell_type": "code",
   "execution_count": 20,
   "id": "b13c5f49-adbb-4a3a-a027-815587e9f6d7",
   "metadata": {},
   "outputs": [
    {
     "data": {
      "text/html": [
       "<div>\n",
       "<style scoped>\n",
       "    .dataframe tbody tr th:only-of-type {\n",
       "        vertical-align: middle;\n",
       "    }\n",
       "\n",
       "    .dataframe tbody tr th {\n",
       "        vertical-align: top;\n",
       "    }\n",
       "\n",
       "    .dataframe thead th {\n",
       "        text-align: right;\n",
       "    }\n",
       "</style>\n",
       "<table border=\"1\" class=\"dataframe\">\n",
       "  <thead>\n",
       "    <tr style=\"text-align: right;\">\n",
       "      <th></th>\n",
       "      <th>user_id</th>\n",
       "      <th>likes</th>\n",
       "      <th>views</th>\n",
       "      <th>ctr</th>\n",
       "    </tr>\n",
       "    <tr>\n",
       "      <th>exp_group</th>\n",
       "      <th></th>\n",
       "      <th></th>\n",
       "      <th></th>\n",
       "      <th></th>\n",
       "    </tr>\n",
       "  </thead>\n",
       "  <tbody>\n",
       "    <tr>\n",
       "      <th>2</th>\n",
       "      <td>8480</td>\n",
       "      <td>8480</td>\n",
       "      <td>8480</td>\n",
       "      <td>8480</td>\n",
       "    </tr>\n",
       "    <tr>\n",
       "      <th>3</th>\n",
       "      <td>8569</td>\n",
       "      <td>8569</td>\n",
       "      <td>8569</td>\n",
       "      <td>8569</td>\n",
       "    </tr>\n",
       "  </tbody>\n",
       "</table>\n",
       "</div>"
      ],
      "text/plain": [
       "           user_id  likes  views   ctr\n",
       "exp_group                             \n",
       "2             8480   8480   8480  8480\n",
       "3             8569   8569   8569  8569"
      ]
     },
     "execution_count": 20,
     "metadata": {},
     "output_type": "execute_result"
    }
   ],
   "source": [
    " # проверим группы на размеры\n",
    "df_aa\\\n",
    "    .groupby('exp_group')\\\n",
    "    .count()"
   ]
  },
  {
   "cell_type": "code",
   "execution_count": 22,
   "id": "37f83570-cfe5-46bb-8d82-9019e7ec80f9",
   "metadata": {},
   "outputs": [],
   "source": [
    " # Установим размер графиков\n",
    "sns.set(rc={'figure.figsize':(10, 10)})"
   ]
  },
  {
   "cell_type": "code",
   "execution_count": 28,
   "id": "a4b10ac8-6319-430f-b481-777b6986b886",
   "metadata": {},
   "outputs": [
    {
     "data": {
      "image/png": "[encoded data removed]",
      "text/plain": [
       "<Figure size 720x720 with 1 Axes>"
      ]
     },
     "metadata": {},
     "output_type": "display_data"
    }
   ],
   "source": [
    " groups = sns.histplot(data=df_aa,\n",
    "                      x='ctr',\n",
    "                      hue='exp_group',\n",
    "                      palette=['y', 'b'],\n",
    "                      kde=False,\n",
    "                      alpha=0.5)"
   ]
  },
  {
   "cell_type": "raw",
   "id": "88ab123e-cb21-4c67-8850-cba786c88a96",
   "metadata": {},
   "source": [
    "Расределение экспериментальных групп практически совпадает"
   ]
  },
  {
   "cell_type": "code",
   "execution_count": null,
   "id": "9e2c3d3c-dabe-49f8-b1c3-18ccbc112db7",
   "metadata": {},
   "outputs": [],
   "source": []
  },
  {
   "cell_type": "code",
   "execution_count": 33,
   "id": "5dabafab-6afd-4927-84e1-2104847df5f6",
   "metadata": {},
   "outputs": [],
   "source": [
    "# Проведем бутстрап\n",
    "\n",
    "def bootstrap_aa(n_bootstrap: int = 10_000, \n",
    "                 B: int = 500,\n",
    ") -> List:\n",
    "    pvalues = []\n",
    "    for _ in range(n_bootstrap):\n",
    "        group_2 = df_aa[df_aa['exp_group'] == 2]['ctr'].sample(B, replace=False).tolist()\n",
    "        group_3 = df_aa[df_aa['exp_group'] == 3]['ctr'].sample(B, replace=False).tolist()\n",
    "        pvalues.append(st.ttest_ind(group_2, group_3, equal_var=False)[1])\n",
    "    \n",
    "    return pvalues"
   ]
  },
  {
   "cell_type": "code",
   "execution_count": 34,
   "id": "d41fc988-ff8e-4f79-9418-fd63275242aa",
   "metadata": {},
   "outputs": [],
   "source": [
    "pvalues = bootstrap_aa()"
   ]
  },
  {
   "cell_type": "code",
   "execution_count": 35,
   "id": "83baafe5-cafa-4ca0-9033-b09e8779924f",
   "metadata": {},
   "outputs": [
    {
     "data": {
      "text/plain": [
       "<AxesSubplot:ylabel='Count'>"
      ]
     },
     "execution_count": 35,
     "metadata": {},
     "output_type": "execute_result"
    },
    {
     "data": {
      "image/png": "[encoded data removed]",
      "text/plain": [
       "<Figure size 720x720 with 1 Axes>"
      ]
     },
     "metadata": {},
     "output_type": "display_data"
    }
   ],
   "source": [
    "sns.histplot(pvalues)"
   ]
  },
  {
   "cell_type": "code",
   "execution_count": 36,
   "id": "b9be2886-4d3a-4c79-9163-bb6f447a42a6",
   "metadata": {},
   "outputs": [
    {
     "name": "stdout",
     "output_type": "stream",
     "text": [
      "4.569999999999999% is the percent of p-values which are less than 0.05 \n"
     ]
    }
   ],
   "source": [
    "perc = sum([1 for i in pvalues if i <= 0.05]) / 10000 * 100\n",
    "print(f'{perc}% is the percent of p-values which are less than 0.05 ')"
   ]
  },
  {
   "cell_type": "raw",
   "id": "394619df-8f54-439c-aff4-ccbea84f004f",
   "metadata": {},
   "source": [
    "Вывод: \n",
    "Статистически значимые различия получаем в 4,6% , что соответствует ошибке I рода. \n",
    "Система сплитования на группы работает корректно."
   ]
  }
 ],
 "metadata": {
  "kernelspec": {
   "display_name": "Python 3 (ipykernel)",
   "language": "python",
   "name": "python3"
  },
  "language_info": {
   "codemirror_mode": {
    "name": "ipython",
    "version": 3
   },
   "file_extension": ".py",
   "mimetype": "text/x-python",
   "name": "python",
   "nbconvert_exporter": "python",
   "pygments_lexer": "ipython3",
   "version": "3.8.10"
  }
 },
 "nbformat": 4,
 "nbformat_minor": 5
}
