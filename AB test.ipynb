{
 "cells": [
  {
   "cell_type": "code",
   "execution_count": 44,
   "id": "f3d5fbfc-4a9d-4d7e-a882-73a79fc44d2a",
   "metadata": {},
   "outputs": [],
   "source": [
    "import pandas as pd\n",
    "import pandahouse as ph\n",
    "import numpy as np\n",
    "import seaborn as sns\n",
    "import scipy.stats as st\n",
    "import matplotlib.pyplot as plt\n",
    "from typing import Tuple"
   ]
  },
  {
   "cell_type": "code",
   "execution_count": 45,
   "id": "7c67259d-befc-4e8c-b9ea-4ab700573490",
   "metadata": {},
   "outputs": [],
   "source": [
    "connection = {\n",
    "    'host'      : 'https://clickhouse.lab.karpov.courses',\n",
    "    'password'  : 'dpo_python_2020',\n",
    "    'user'      : 'student',\n",
    "    'database'  : 'simulator_20221020'\n",
    "}"
   ]
  },
  {
   "cell_type": "code",
   "execution_count": 46,
   "id": "7f0d737e-6f68-4fae-b40e-94602d97aed4",
   "metadata": {},
   "outputs": [],
   "source": [
    "q = \"\"\"\n",
    "select\n",
    "    user_id,\n",
    "    exp_group, \n",
    "    countIf(action='like') as likes,\n",
    "    countIf(action='view') as views, \n",
    "    likes / views as ctr\n",
    "from {db}.feed_actions\n",
    "where toDate(time) >= '2022-10-03' and toDate(time) <= '2022-10-09'\n",
    "and exp_group in (1, 2)\n",
    "group by 2, 1\n",
    "\"\"\""
   ]
  },
  {
   "cell_type": "code",
   "execution_count": 47,
   "id": "5aa666bf-9fec-43da-acde-87e041542739",
   "metadata": {},
   "outputs": [],
   "source": [
    "df_ab = ph.read_clickhouse(q, connection=connection)"
   ]
  },
  {
   "cell_type": "code",
   "execution_count": 48,
   "id": "be9130ea-acb5-44bd-9449-8a29d8d95da3",
   "metadata": {},
   "outputs": [
    {
     "data": {
      "text/html": [
       "<div>\n",
       "<style scoped>\n",
       "    .dataframe tbody tr th:only-of-type {\n",
       "        vertical-align: middle;\n",
       "    }\n",
       "\n",
       "    .dataframe tbody tr th {\n",
       "        vertical-align: top;\n",
       "    }\n",
       "\n",
       "    .dataframe thead th {\n",
       "        text-align: right;\n",
       "    }\n",
       "</style>\n",
       "<table border=\"1\" class=\"dataframe\">\n",
       "  <thead>\n",
       "    <tr style=\"text-align: right;\">\n",
       "      <th></th>\n",
       "      <th>user_id</th>\n",
       "      <th>exp_group</th>\n",
       "      <th>likes</th>\n",
       "      <th>views</th>\n",
       "      <th>ctr</th>\n",
       "    </tr>\n",
       "  </thead>\n",
       "  <tbody>\n",
       "    <tr>\n",
       "      <th>0</th>\n",
       "      <td>109963</td>\n",
       "      <td>1</td>\n",
       "      <td>3</td>\n",
       "      <td>15</td>\n",
       "      <td>0.200000</td>\n",
       "    </tr>\n",
       "    <tr>\n",
       "      <th>1</th>\n",
       "      <td>26117</td>\n",
       "      <td>1</td>\n",
       "      <td>32</td>\n",
       "      <td>141</td>\n",
       "      <td>0.226950</td>\n",
       "    </tr>\n",
       "    <tr>\n",
       "      <th>2</th>\n",
       "      <td>138232</td>\n",
       "      <td>1</td>\n",
       "      <td>18</td>\n",
       "      <td>73</td>\n",
       "      <td>0.246575</td>\n",
       "    </tr>\n",
       "    <tr>\n",
       "      <th>3</th>\n",
       "      <td>26295</td>\n",
       "      <td>1</td>\n",
       "      <td>33</td>\n",
       "      <td>122</td>\n",
       "      <td>0.270492</td>\n",
       "    </tr>\n",
       "    <tr>\n",
       "      <th>4</th>\n",
       "      <td>18392</td>\n",
       "      <td>1</td>\n",
       "      <td>7</td>\n",
       "      <td>32</td>\n",
       "      <td>0.218750</td>\n",
       "    </tr>\n",
       "    <tr>\n",
       "      <th>...</th>\n",
       "      <td>...</td>\n",
       "      <td>...</td>\n",
       "      <td>...</td>\n",
       "      <td>...</td>\n",
       "      <td>...</td>\n",
       "    </tr>\n",
       "    <tr>\n",
       "      <th>20026</th>\n",
       "      <td>132567</td>\n",
       "      <td>1</td>\n",
       "      <td>45</td>\n",
       "      <td>296</td>\n",
       "      <td>0.152027</td>\n",
       "    </tr>\n",
       "    <tr>\n",
       "      <th>20027</th>\n",
       "      <td>30872</td>\n",
       "      <td>1</td>\n",
       "      <td>11</td>\n",
       "      <td>59</td>\n",
       "      <td>0.186441</td>\n",
       "    </tr>\n",
       "    <tr>\n",
       "      <th>20028</th>\n",
       "      <td>25383</td>\n",
       "      <td>2</td>\n",
       "      <td>42</td>\n",
       "      <td>127</td>\n",
       "      <td>0.330709</td>\n",
       "    </tr>\n",
       "    <tr>\n",
       "      <th>20029</th>\n",
       "      <td>139020</td>\n",
       "      <td>2</td>\n",
       "      <td>24</td>\n",
       "      <td>114</td>\n",
       "      <td>0.210526</td>\n",
       "    </tr>\n",
       "    <tr>\n",
       "      <th>20030</th>\n",
       "      <td>17310</td>\n",
       "      <td>2</td>\n",
       "      <td>9</td>\n",
       "      <td>82</td>\n",
       "      <td>0.109756</td>\n",
       "    </tr>\n",
       "  </tbody>\n",
       "</table>\n",
       "<p>20031 rows × 5 columns</p>\n",
       "</div>"
      ],
      "text/plain": [
       "       user_id  exp_group  likes  views       ctr\n",
       "0       109963          1      3     15  0.200000\n",
       "1        26117          1     32    141  0.226950\n",
       "2       138232          1     18     73  0.246575\n",
       "3        26295          1     33    122  0.270492\n",
       "4        18392          1      7     32  0.218750\n",
       "...        ...        ...    ...    ...       ...\n",
       "20026   132567          1     45    296  0.152027\n",
       "20027    30872          1     11     59  0.186441\n",
       "20028    25383          2     42    127  0.330709\n",
       "20029   139020          2     24    114  0.210526\n",
       "20030    17310          2      9     82  0.109756\n",
       "\n",
       "[20031 rows x 5 columns]"
      ]
     },
     "execution_count": 48,
     "metadata": {},
     "output_type": "execute_result"
    }
   ],
   "source": [
    "df_ab"
   ]
  },
  {
   "cell_type": "code",
   "execution_count": 49,
   "id": "b01f5352-edbf-42c0-b35e-f22508ae119f",
   "metadata": {},
   "outputs": [],
   "source": [
    "group_a = df_ab[df_ab['exp_group'] == 1]['ctr'] # контрольная группа\n",
    "group_b = df_ab[df_ab['exp_group'] == 2]['ctr'] # экпериментальная группа"
   ]
  },
  {
   "cell_type": "code",
   "execution_count": 50,
   "id": "aef6242c-73e5-478c-ad7b-b4cd3a4554ae",
   "metadata": {},
   "outputs": [],
   "source": [
    " # Установим размер графиков\n",
    "sns.set(rc={'figure.figsize':(10, 10)})"
   ]
  },
  {
   "cell_type": "code",
   "execution_count": 51,
   "id": "de791274-47dd-4462-b2e7-6b264d69ad6a",
   "metadata": {},
   "outputs": [
    {
     "data": {
      "image/png": "[encoded data removed]",
      "text/plain": [
       "<Figure size 720x720 with 1 Axes>"
      ]
     },
     "metadata": {},
     "output_type": "display_data"
    }
   ],
   "source": [
    " sns.histplot(data=df_ab,\n",
    "             x          = 'ctr',\n",
    "             hue        = 'exp_group',\n",
    "             palette    = ['g', 'b'],\n",
    "             kde        = False,\n",
    "             alpha      = 0.5);"
   ]
  },
  {
   "cell_type": "markdown",
   "id": "ede8a58e-aedd-4a36-8110-21a600448365",
   "metadata": {},
   "source": [
    "Распределение ctr первой группы напоминает нормальное распределение. Распределение втторой группы бимодальное. Это говорит о том, что в данном случае t-test не дает гарантированного результата.\n",
    "Можем предположить, что тестовая группа разделилась на 2 подгруппы с негативным и позитивным влиянием на CTR."
   ]
  },
  {
   "cell_type": "markdown",
   "id": "942b2b10-cb58-4062-8a47-745f5c55edbd",
   "metadata": {},
   "source": [
    "# Пременим разные тесты"
   ]
  },
  {
   "cell_type": "markdown",
   "id": "6dd3aaaf-cb31-4b25-9875-203c6e1db846",
   "metadata": {},
   "source": [
    "# Т-тест"
   ]
  },
  {
   "cell_type": "code",
   "execution_count": 52,
   "id": "c5a4d435-a198-4863-9f2a-d76f3b2ad9c3",
   "metadata": {},
   "outputs": [
    {
     "data": {
      "text/plain": [
       "Ttest_indResult(statistic=0.7094392041270486, pvalue=0.4780623130874935)"
      ]
     },
     "execution_count": 52,
     "metadata": {},
     "output_type": "execute_result"
    }
   ],
   "source": [
    " st.ttest_ind(group_a, group_b, equal_var=False)"
   ]
  },
  {
   "cell_type": "code",
   "execution_count": 53,
   "id": "5789790d-a39e-4353-9c06-f9eee072b325",
   "metadata": {},
   "outputs": [
    {
     "data": {
      "text/plain": [
       "(0.21560459841296287, 0.21441927347479375)"
      ]
     },
     "execution_count": 53,
     "metadata": {},
     "output_type": "execute_result"
    }
   ],
   "source": [
    " group_a.mean(), group_b.mean()"
   ]
  },
  {
   "cell_type": "markdown",
   "id": "a32be202-394b-4674-a0fb-db85444e27f0",
   "metadata": {},
   "source": [
    "Результат:\n",
    "p-value > 0.05 поэтому статистически значимого различия нет. Это зависит от того, что распределение ctr второй группы не норм, применение теста не корректно."
   ]
  },
  {
   "cell_type": "markdown",
   "id": "1a1f413d-14b7-4a8b-92bd-f7576d9b9bcc",
   "metadata": {},
   "source": [
    "# Mann-Witney test"
   ]
  },
  {
   "cell_type": "code",
   "execution_count": 54,
   "id": "29a48c02-d978-4188-bb64-bfac86f11fdb",
   "metadata": {},
   "outputs": [
    {
     "data": {
      "text/plain": [
       "MannwhitneyuResult(statistic=56601260.5, pvalue=6.0376484617779035e-56)"
      ]
     },
     "execution_count": 54,
     "metadata": {},
     "output_type": "execute_result"
    }
   ],
   "source": [
    "st.mannwhitneyu(group_a, group_b, alternative='two-sided')"
   ]
  },
  {
   "cell_type": "markdown",
   "id": "3a263cda-796e-45a0-b062-38a603bcc972",
   "metadata": {},
   "source": [
    "Тест Манна Уитни показывает статистические различия"
   ]
  },
  {
   "cell_type": "markdown",
   "id": "a5475252-d886-430a-ac9a-a4f5bd0385df",
   "metadata": {},
   "source": [
    "# Smoothed CTR"
   ]
  },
  {
   "cell_type": "code",
   "execution_count": 55,
   "id": "6665b7ce-3d97-4e68-aa82-af1eee09118c",
   "metadata": {},
   "outputs": [],
   "source": [
    "def get_smoothed_ctr(user_likes: pd.Series,\n",
    "                     user_views: pd.Series,\n",
    "                     global_ctr: int,\n",
    "                     alpha: int = 5\n",
    ") -> pd.Series:\n",
    "    smoothed_ctr = (user_likes +  alpha * global_ctr) / (user_views + alpha)\n",
    "    return smoothed_ctr"
   ]
  },
  {
   "cell_type": "code",
   "execution_count": 56,
   "id": "39d7a149-9620-45b8-86f8-6cb4b8d3c30c",
   "metadata": {},
   "outputs": [],
   "source": [
    " # рассчитаем общий ctr в первой и во второй группах\n",
    "all_ctr_1 = df_ab[df_ab['exp_group'] == 1]['likes'].sum() / df_ab[df_ab['exp_group'] == 1]['views'].sum()\n",
    "all_ctr_2 = df_ab[df_ab['exp_group'] == 2]['likes'].sum() / df_ab[df_ab['exp_group'] == 2]['views'].sum()"
   ]
  },
  {
   "cell_type": "code",
   "execution_count": 57,
   "id": "bfb244dd-16ba-4f08-ad61-7a08acf027fc",
   "metadata": {},
   "outputs": [
    {
     "data": {
      "text/plain": [
       "(0.20802680490126244, 0.1980601844115994)"
      ]
     },
     "execution_count": 57,
     "metadata": {},
     "output_type": "execute_result"
    }
   ],
   "source": [
    "all_ctr_1, all_ctr_2"
   ]
  },
  {
   "cell_type": "code",
   "execution_count": 58,
   "id": "7cf8cf2a-62a6-42ca-ad2b-435267a66fe6",
   "metadata": {},
   "outputs": [],
   "source": [
    "group_1 = df_ab[df_ab['exp_group'] == 1]\n",
    "group_2 = df_ab[df_ab['exp_group'] == 2]"
   ]
  },
  {
   "cell_type": "code",
   "execution_count": 61,
   "id": "07b165b8-80ba-4024-b1c3-5997ae36bce3",
   "metadata": {},
   "outputs": [
    {
     "name": "stderr",
     "output_type": "stream",
     "text": [
      "/tmp/ipykernel_63/2426916420.py:1: SettingWithCopyWarning: \n",
      "A value is trying to be set on a copy of a slice from a DataFrame.\n",
      "Try using .loc[row_indexer,col_indexer] = value instead\n",
      "\n",
      "See the caveats in the documentation: https://pandas.pydata.org/pandas-docs/stable/user_guide/indexing.html#returning-a-view-versus-a-copy\n",
      "  group_1['smoothed_ctr'] = df_ab[df_ab['exp_group'] == 1].apply(lambda x: get_smoothed_ctr(x['likes'], x['views'], all_ctr_1), axis=1)\n",
      "/tmp/ipykernel_63/2426916420.py:2: SettingWithCopyWarning: \n",
      "A value is trying to be set on a copy of a slice from a DataFrame.\n",
      "Try using .loc[row_indexer,col_indexer] = value instead\n",
      "\n",
      "See the caveats in the documentation: https://pandas.pydata.org/pandas-docs/stable/user_guide/indexing.html#returning-a-view-versus-a-copy\n",
      "  group_2['smoothed_ctr'] = df_ab[df_ab['exp_group'] == 2].apply(lambda x: get_smoothed_ctr(x['likes'], x['views'], all_ctr_2), axis=1)\n"
     ]
    }
   ],
   "source": [
    "group_1['smoothed_ctr'] = df_ab[df_ab['exp_group'] == 1].apply(lambda x: get_smoothed_ctr(x['likes'], x['views'], all_ctr_1), axis=1)\n",
    "group_2['smoothed_ctr'] = df_ab[df_ab['exp_group'] == 2].apply(lambda x: get_smoothed_ctr(x['likes'], x['views'], all_ctr_2), axis=1)"
   ]
  },
  {
   "cell_type": "code",
   "execution_count": 62,
   "id": "5e174de7-585c-47c8-8f24-2ce61d516fab",
   "metadata": {},
   "outputs": [
    {
     "data": {
      "text/html": [
       "<div>\n",
       "<style scoped>\n",
       "    .dataframe tbody tr th:only-of-type {\n",
       "        vertical-align: middle;\n",
       "    }\n",
       "\n",
       "    .dataframe tbody tr th {\n",
       "        vertical-align: top;\n",
       "    }\n",
       "\n",
       "    .dataframe thead th {\n",
       "        text-align: right;\n",
       "    }\n",
       "</style>\n",
       "<table border=\"1\" class=\"dataframe\">\n",
       "  <thead>\n",
       "    <tr style=\"text-align: right;\">\n",
       "      <th></th>\n",
       "      <th>user_id</th>\n",
       "      <th>exp_group</th>\n",
       "      <th>likes</th>\n",
       "      <th>views</th>\n",
       "      <th>ctr</th>\n",
       "      <th>smoothed_ctr</th>\n",
       "    </tr>\n",
       "  </thead>\n",
       "  <tbody>\n",
       "    <tr>\n",
       "      <th>0</th>\n",
       "      <td>109963</td>\n",
       "      <td>1</td>\n",
       "      <td>3</td>\n",
       "      <td>15</td>\n",
       "      <td>0.200000</td>\n",
       "      <td>0.202007</td>\n",
       "    </tr>\n",
       "    <tr>\n",
       "      <th>1</th>\n",
       "      <td>26117</td>\n",
       "      <td>1</td>\n",
       "      <td>32</td>\n",
       "      <td>141</td>\n",
       "      <td>0.226950</td>\n",
       "      <td>0.226302</td>\n",
       "    </tr>\n",
       "    <tr>\n",
       "      <th>2</th>\n",
       "      <td>138232</td>\n",
       "      <td>1</td>\n",
       "      <td>18</td>\n",
       "      <td>73</td>\n",
       "      <td>0.246575</td>\n",
       "      <td>0.244104</td>\n",
       "    </tr>\n",
       "    <tr>\n",
       "      <th>3</th>\n",
       "      <td>26295</td>\n",
       "      <td>1</td>\n",
       "      <td>33</td>\n",
       "      <td>122</td>\n",
       "      <td>0.270492</td>\n",
       "      <td>0.268033</td>\n",
       "    </tr>\n",
       "    <tr>\n",
       "      <th>4</th>\n",
       "      <td>18392</td>\n",
       "      <td>1</td>\n",
       "      <td>7</td>\n",
       "      <td>32</td>\n",
       "      <td>0.218750</td>\n",
       "      <td>0.217301</td>\n",
       "    </tr>\n",
       "    <tr>\n",
       "      <th>...</th>\n",
       "      <td>...</td>\n",
       "      <td>...</td>\n",
       "      <td>...</td>\n",
       "      <td>...</td>\n",
       "      <td>...</td>\n",
       "      <td>...</td>\n",
       "    </tr>\n",
       "    <tr>\n",
       "      <th>20020</th>\n",
       "      <td>31540</td>\n",
       "      <td>1</td>\n",
       "      <td>8</td>\n",
       "      <td>45</td>\n",
       "      <td>0.177778</td>\n",
       "      <td>0.180803</td>\n",
       "    </tr>\n",
       "    <tr>\n",
       "      <th>20021</th>\n",
       "      <td>23359</td>\n",
       "      <td>1</td>\n",
       "      <td>23</td>\n",
       "      <td>91</td>\n",
       "      <td>0.252747</td>\n",
       "      <td>0.250418</td>\n",
       "    </tr>\n",
       "    <tr>\n",
       "      <th>20024</th>\n",
       "      <td>110956</td>\n",
       "      <td>1</td>\n",
       "      <td>3</td>\n",
       "      <td>16</td>\n",
       "      <td>0.187500</td>\n",
       "      <td>0.192387</td>\n",
       "    </tr>\n",
       "    <tr>\n",
       "      <th>20026</th>\n",
       "      <td>132567</td>\n",
       "      <td>1</td>\n",
       "      <td>45</td>\n",
       "      <td>296</td>\n",
       "      <td>0.152027</td>\n",
       "      <td>0.152957</td>\n",
       "    </tr>\n",
       "    <tr>\n",
       "      <th>20027</th>\n",
       "      <td>30872</td>\n",
       "      <td>1</td>\n",
       "      <td>11</td>\n",
       "      <td>59</td>\n",
       "      <td>0.186441</td>\n",
       "      <td>0.188127</td>\n",
       "    </tr>\n",
       "  </tbody>\n",
       "</table>\n",
       "<p>10079 rows × 6 columns</p>\n",
       "</div>"
      ],
      "text/plain": [
       "       user_id  exp_group  likes  views       ctr  smoothed_ctr\n",
       "0       109963          1      3     15  0.200000      0.202007\n",
       "1        26117          1     32    141  0.226950      0.226302\n",
       "2       138232          1     18     73  0.246575      0.244104\n",
       "3        26295          1     33    122  0.270492      0.268033\n",
       "4        18392          1      7     32  0.218750      0.217301\n",
       "...        ...        ...    ...    ...       ...           ...\n",
       "20020    31540          1      8     45  0.177778      0.180803\n",
       "20021    23359          1     23     91  0.252747      0.250418\n",
       "20024   110956          1      3     16  0.187500      0.192387\n",
       "20026   132567          1     45    296  0.152027      0.152957\n",
       "20027    30872          1     11     59  0.186441      0.188127\n",
       "\n",
       "[10079 rows x 6 columns]"
      ]
     },
     "execution_count": 62,
     "metadata": {},
     "output_type": "execute_result"
    }
   ],
   "source": [
    "group_1"
   ]
  },
  {
   "cell_type": "code",
   "execution_count": 66,
   "id": "0b7baf29-1c09-4597-a44d-0bc6fd539dfc",
   "metadata": {},
   "outputs": [
    {
     "data": {
      "image/png": "[encoded data removed]",
      "text/plain": [
       "<Figure size 720x720 with 1 Axes>"
      ]
     },
     "metadata": {},
     "output_type": "display_data"
    }
   ],
   "source": [
    "sns.histplot(group_1['smoothed_ctr'],\n",
    "             color='b',\n",
    "             alpha=0.5,\n",
    "             kde=False);\n",
    "sns.histplot(group_2['smoothed_ctr'],\n",
    "             color='g',\n",
    "             alpha=0.5,\n",
    "             kde=False);\n",
    "plt.legend(labels=['Control group', 'Treatment group']);"
   ]
  },
  {
   "cell_type": "markdown",
   "id": "5fbfc77c-0b39-4951-bcb2-369794b296e3",
   "metadata": {},
   "source": [
    "# T-test CTR"
   ]
  },
  {
   "cell_type": "code",
   "execution_count": 67,
   "id": "ac9baa4e-dc39-479b-84f1-51253a09fbac",
   "metadata": {},
   "outputs": [
    {
     "data": {
      "text/plain": [
       "Ttest_indResult(statistic=2.2841320431616983, pvalue=0.0223769815558559)"
      ]
     },
     "execution_count": 67,
     "metadata": {},
     "output_type": "execute_result"
    }
   ],
   "source": [
    "st.ttest_ind(group_1['smoothed_ctr'], group_2['smoothed_ctr'], equal_var=False)"
   ]
  },
  {
   "cell_type": "code",
   "execution_count": 68,
   "id": "79d84be1-3d2e-485c-9ac3-b6ac502d452f",
   "metadata": {},
   "outputs": [
    {
     "data": {
      "text/plain": [
       "(0.21402549608884142, 0.21073955503259234)"
      ]
     },
     "execution_count": 68,
     "metadata": {},
     "output_type": "execute_result"
    }
   ],
   "source": [
    "# найдем средние в контрольниой и тестовой группах\n",
    "group_1['smoothed_ctr'].mean(), group_2['smoothed_ctr'].mean()"
   ]
  },
  {
   "cell_type": "markdown",
   "id": "6d9ee2bc-1833-4f87-aa25-6858454be82f",
   "metadata": {},
   "source": [
    "# Mann-Witney test CTR"
   ]
  },
  {
   "cell_type": "code",
   "execution_count": 69,
   "id": "d61a93a4-6e9d-4e20-959f-e1ba52ef87b7",
   "metadata": {},
   "outputs": [
    {
     "data": {
      "text/plain": [
       "MannwhitneyuResult(statistic=56925125.0, pvalue=1.6163964114270227e-61)"
      ]
     },
     "execution_count": 69,
     "metadata": {},
     "output_type": "execute_result"
    }
   ],
   "source": [
    "st.mannwhitneyu(group_1['smoothed_ctr'], group_2['smoothed_ctr'], alternative='two-sided')"
   ]
  },
  {
   "cell_type": "markdown",
   "id": "68492d58-3615-4132-a02e-425f9c8eed90",
   "metadata": {},
   "source": [
    "Результат:\n",
    "    Сглаженный ctr ttest, в отличие от обычного ctr, показывает стат. значимое различие. Тест Манна-Уитни сходится с предыдущим."
   ]
  },
  {
   "cell_type": "markdown",
   "id": "40650ca6-f967-4ce3-972e-514ff3c6e407",
   "metadata": {},
   "source": [
    "# Применим Poisson bootstrap"
   ]
  },
  {
   "cell_type": "code",
   "execution_count": 72,
   "id": "93438a97-3066-42a9-bb80-66895afd347f",
   "metadata": {},
   "outputs": [],
   "source": [
    "def poisson_bootstrap(likes1: np.ndarray,\n",
    "                      views1: np.ndarray,\n",
    "                      likes2: np.ndarray,\n",
    "                      views2: np.ndarray,\n",
    "                      n_bootstrap: int = 10000\n",
    ") -> Tuple[np.ndarray, np.ndarray]:\n",
    "    btstrp_samples_1 = st.poisson(1).rvs((n_bootstrap, len(likes1)))\n",
    "    btstrp_samples_2 = st.poisson(1).rvs((n_bootstrap, len(likes2)))\n",
    "\n",
    "    global_ctr_1 = (btstrp_samples_1 * likes1).sum(axis=1) / (btstrp_samples_1 * views1).sum(axis=1)\n",
    "    global_ctr_2 = (btstrp_samples_2 * likes2).sum(axis=1) / (btstrp_samples_2 * views2).sum(axis=1)\n",
    "\n",
    "    return global_ctr_1, global_ctr_2"
   ]
  },
  {
   "cell_type": "code",
   "execution_count": 73,
   "id": "4d2750d6-49c4-4125-8371-5e1169b5d3d6",
   "metadata": {},
   "outputs": [],
   "source": [
    "likes1 = df_ab[df_ab.exp_group == 1]['likes'].to_numpy()\n",
    "likes2 = df_ab[df_ab.exp_group == 2]['likes'].to_numpy()\n",
    "views1 = df_ab[df_ab.exp_group == 1]['views'].to_numpy()\n",
    "views2 = df_ab[df_ab.exp_group == 2]['views'].to_numpy()"
   ]
  },
  {
   "cell_type": "code",
   "execution_count": 74,
   "id": "09c64686-efc1-4674-9a79-1ccf310843c0",
   "metadata": {},
   "outputs": [],
   "source": [
    "ctr_1, ctr_2  = poisson_bootstrap(likes1, views1, likes2, views2)"
   ]
  },
  {
   "cell_type": "code",
   "execution_count": 75,
   "id": "85d5f87a-7cac-4980-8529-3c3eae473b5d",
   "metadata": {},
   "outputs": [
    {
     "data": {
      "image/png": "[encoded data removed]",
      "text/plain": [
       "<Figure size 720x720 with 1 Axes>"
      ]
     },
     "metadata": {},
     "output_type": "display_data"
    }
   ],
   "source": [
    "sns.set(rc={'figure.figsize':(10, 10)})\n",
    "sns.histplot(ctr_1)\n",
    "sns.histplot(ctr_2);"
   ]
  },
  {
   "cell_type": "code",
   "execution_count": 76,
   "id": "af60c095-d156-4239-abb6-97aa54228071",
   "metadata": {},
   "outputs": [
    {
     "data": {
      "text/plain": [
       "<AxesSubplot:ylabel='Count'>"
      ]
     },
     "execution_count": 76,
     "metadata": {},
     "output_type": "execute_result"
    },
    {
     "data": {
      "image/png": "[encoded data removed]",
      "text/plain": [
       "<Figure size 720x720 with 1 Axes>"
      ]
     },
     "metadata": {},
     "output_type": "display_data"
    }
   ],
   "source": [
    "sns.histplot(ctr_1 - ctr_2)"
   ]
  },
  {
   "cell_type": "markdown",
   "id": "00fcbfa0-69cc-4058-a88f-b2aa1467cf40",
   "metadata": {},
   "source": [
    "Результат:\n",
    "    Распределение глобального ctr показывает, что ctr в тестовой группе стал меньше для каждой бустрап-подвыборки"
   ]
  },
  {
   "cell_type": "markdown",
   "id": "8776c40b-766e-48ff-b5f3-390f2453b3d6",
   "metadata": {},
   "source": [
    "# Бакетное преобразование"
   ]
  },
  {
   "cell_type": "code",
   "execution_count": 78,
   "id": "2297ffc3-2c37-4407-85b7-53d833806d2c",
   "metadata": {},
   "outputs": [],
   "source": [
    "q = \"\"\"\n",
    "select\n",
    "  exp_group,\n",
    "  bucket,\n",
    "  sum(likes) / sum(views) as bucket_ctr\n",
    "from\n",
    "  (\n",
    "    SELECT\n",
    "      exp_group,\n",
    "      xxHash64(user_id) % 50  as bucket,\n",
    "      user_id,\n",
    "      sum(action = 'like')    as likes,\n",
    "      sum(action = 'view')    as views,\n",
    "      likes / views           as ctr\n",
    "    FROM\n",
    "      simulator_20221020.feed_actions\n",
    "    where\n",
    "      toDate(time) >= '2022-10-03' and toDate(time) <= '2022-10-09'\n",
    "      and exp_group in (1, 2)\n",
    "    GROUP BY 1,2,3\n",
    "  )\n",
    "group by 2,1\n",
    "\"\"\""
   ]
  },
  {
   "cell_type": "code",
   "execution_count": 79,
   "id": "d57e51eb-514b-4d46-85c9-a8deb29c0c44",
   "metadata": {},
   "outputs": [
    {
     "data": {
      "text/html": [
       "<div>\n",
       "<style scoped>\n",
       "    .dataframe tbody tr th:only-of-type {\n",
       "        vertical-align: middle;\n",
       "    }\n",
       "\n",
       "    .dataframe tbody tr th {\n",
       "        vertical-align: top;\n",
       "    }\n",
       "\n",
       "    .dataframe thead th {\n",
       "        text-align: right;\n",
       "    }\n",
       "</style>\n",
       "<table border=\"1\" class=\"dataframe\">\n",
       "  <thead>\n",
       "    <tr style=\"text-align: right;\">\n",
       "      <th></th>\n",
       "      <th>exp_group</th>\n",
       "      <th>bucket</th>\n",
       "      <th>bucket_ctr</th>\n",
       "    </tr>\n",
       "  </thead>\n",
       "  <tbody>\n",
       "    <tr>\n",
       "      <th>0</th>\n",
       "      <td>1</td>\n",
       "      <td>0</td>\n",
       "      <td>0.196481</td>\n",
       "    </tr>\n",
       "    <tr>\n",
       "      <th>1</th>\n",
       "      <td>1</td>\n",
       "      <td>1</td>\n",
       "      <td>0.211887</td>\n",
       "    </tr>\n",
       "    <tr>\n",
       "      <th>2</th>\n",
       "      <td>1</td>\n",
       "      <td>2</td>\n",
       "      <td>0.206271</td>\n",
       "    </tr>\n",
       "    <tr>\n",
       "      <th>3</th>\n",
       "      <td>1</td>\n",
       "      <td>3</td>\n",
       "      <td>0.203733</td>\n",
       "    </tr>\n",
       "    <tr>\n",
       "      <th>4</th>\n",
       "      <td>1</td>\n",
       "      <td>4</td>\n",
       "      <td>0.209739</td>\n",
       "    </tr>\n",
       "    <tr>\n",
       "      <th>...</th>\n",
       "      <td>...</td>\n",
       "      <td>...</td>\n",
       "      <td>...</td>\n",
       "    </tr>\n",
       "    <tr>\n",
       "      <th>95</th>\n",
       "      <td>2</td>\n",
       "      <td>45</td>\n",
       "      <td>0.179901</td>\n",
       "    </tr>\n",
       "    <tr>\n",
       "      <th>96</th>\n",
       "      <td>2</td>\n",
       "      <td>46</td>\n",
       "      <td>0.192589</td>\n",
       "    </tr>\n",
       "    <tr>\n",
       "      <th>97</th>\n",
       "      <td>2</td>\n",
       "      <td>47</td>\n",
       "      <td>0.195880</td>\n",
       "    </tr>\n",
       "    <tr>\n",
       "      <th>98</th>\n",
       "      <td>2</td>\n",
       "      <td>48</td>\n",
       "      <td>0.194502</td>\n",
       "    </tr>\n",
       "    <tr>\n",
       "      <th>99</th>\n",
       "      <td>2</td>\n",
       "      <td>49</td>\n",
       "      <td>0.196539</td>\n",
       "    </tr>\n",
       "  </tbody>\n",
       "</table>\n",
       "<p>100 rows × 3 columns</p>\n",
       "</div>"
      ],
      "text/plain": [
       "    exp_group  bucket  bucket_ctr\n",
       "0           1       0    0.196481\n",
       "1           1       1    0.211887\n",
       "2           1       2    0.206271\n",
       "3           1       3    0.203733\n",
       "4           1       4    0.209739\n",
       "..        ...     ...         ...\n",
       "95          2      45    0.179901\n",
       "96          2      46    0.192589\n",
       "97          2      47    0.195880\n",
       "98          2      48    0.194502\n",
       "99          2      49    0.196539\n",
       "\n",
       "[100 rows x 3 columns]"
      ]
     },
     "execution_count": 79,
     "metadata": {},
     "output_type": "execute_result"
    }
   ],
   "source": [
    "df_bucket = ph.read_clickhouse(q, connection=connection)\n",
    "df_bucket"
   ]
  },
  {
   "cell_type": "markdown",
   "id": "396f9be9-3240-4c0a-b746-7b28349378eb",
   "metadata": {},
   "source": [
    "# t-test"
   ]
  },
  {
   "cell_type": "code",
   "execution_count": 80,
   "id": "2ffcabbd-450c-4f32-9134-c603b9c188bc",
   "metadata": {},
   "outputs": [
    {
     "data": {
      "text/plain": [
       "Ttest_indResult(statistic=5.668234732053979, pvalue=3.4455951649945907e-07)"
      ]
     },
     "execution_count": 80,
     "metadata": {},
     "output_type": "execute_result"
    }
   ],
   "source": [
    "st.ttest_ind(df_bucket[df_bucket['exp_group'] == 1]['bucket_ctr'],\n",
    "             df_bucket[df_bucket['exp_group'] == 2]['bucket_ctr'],\n",
    "             equal_var=False)"
   ]
  },
  {
   "cell_type": "markdown",
   "id": "aa7bd47f-2708-4173-bcc8-2e6ffc774fc8",
   "metadata": {},
   "source": [
    "#  Mann-Witney test"
   ]
  },
  {
   "cell_type": "code",
   "execution_count": 81,
   "id": "ecdc2bc8-5931-4037-bceb-1786dd951a87",
   "metadata": {},
   "outputs": [
    {
     "data": {
      "text/plain": [
       "MannwhitneyuResult(statistic=1995.0, pvalue=2.859963936492646e-07)"
      ]
     },
     "execution_count": 81,
     "metadata": {},
     "output_type": "execute_result"
    }
   ],
   "source": [
    "st.mannwhitneyu(df_bucket[df_bucket['exp_group'] == 1]['bucket_ctr'],\n",
    "                df_bucket[df_bucket['exp_group'] == 2]['bucket_ctr'],\n",
    "                alternative='two-sided')"
   ]
  },
  {
   "cell_type": "code",
   "execution_count": 84,
   "id": "d133fcbb-af62-4249-8dcd-705a294a822f",
   "metadata": {},
   "outputs": [
    {
     "data": {
      "image/png": "[encoded data removed]",
      "text/plain": [
       "<Figure size 720x720 with 1 Axes>"
      ]
     },
     "metadata": {},
     "output_type": "display_data"
    }
   ],
   "source": [
    "sns.histplot(df_bucket[df_bucket['exp_group'] == 1]['bucket_ctr'],\n",
    "             color='g',\n",
    "             alpha=0.5,\n",
    "             kde=False)\n",
    "sns.histplot(df_bucket[df_bucket['exp_group'] == 2]['bucket_ctr'],\n",
    "             color='b',\n",
    "             alpha=0.5,\n",
    "             kde=False);"
   ]
  },
  {
   "cell_type": "markdown",
   "id": "03f2e4a4-2638-4aa3-b7c7-b3597941d459",
   "metadata": {},
   "source": [
    " Вывод: Оба теста показывают статмстически значимое различие, это визуально видно на распределениях (среднее тестовой группы смещено). Распределение бакетного ctr напоминает нормальное."
   ]
  },
  {
   "cell_type": "markdown",
   "id": "26bd1d86-c6c3-4ba9-8752-c9374dd4275e",
   "metadata": {},
   "source": [
    "# Общий вывод"
   ]
  },
  {
   "cell_type": "markdown",
   "id": "ebc5a9e4-4c72-4595-a974-e073ab9e428e",
   "metadata": {},
   "source": [
    "Были проведены тесты: ttest'а Стьюдента и теста Манна-Уитни, кроме этого было применено: сглаживание CTR, Пуассоновский бутстреп, бакетное преобразование. \n",
    "По результатам теста видим, что между контрольной и тестовой группами наблюдается стат. значимое различие. Это наблюдается и при сравнении поюзерного CTR, и глобального. Также Пуассоновский бутстрап и бакетное преобразование показали, что в среднем глобальный CTR уменьшился. По результатм теста не рекомендуется раскатывать новый алгоритм на всех пользователей."
   ]
  }
 ],
 "metadata": {
  "kernelspec": {
   "display_name": "Python 3 (ipykernel)",
   "language": "python",
   "name": "python3"
  },
  "language_info": {
   "codemirror_mode": {
    "name": "ipython",
    "version": 3
   },
   "file_extension": ".py",
   "mimetype": "text/x-python",
   "name": "python",
   "nbconvert_exporter": "python",
   "pygments_lexer": "ipython3",
   "version": "3.8.10"
  }
 },
 "nbformat": 4,
 "nbformat_minor": 5
}
